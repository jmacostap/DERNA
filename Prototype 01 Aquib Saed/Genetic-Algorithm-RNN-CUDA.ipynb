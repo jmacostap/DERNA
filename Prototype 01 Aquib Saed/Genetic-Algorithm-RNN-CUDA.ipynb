{
 "cells": [
  {
   "cell_type": "markdown",
   "metadata": {},
   "source": [
    "### Optimizing RNN using Genetic Algorithm "
   ]
  },
  {
   "cell_type": "markdown",
   "metadata": {},
   "source": [
    "#### Importing required packages"
   ]
  },
  {
   "cell_type": "code",
   "execution_count": 1,
   "metadata": {},
   "outputs": [],
   "source": [
    "import numpy as np\n",
    "import pandas as pd\n",
    "from sklearn.metrics import mean_squared_error\n",
    "from sklearn.model_selection import train_test_split as split\n",
    "\n",
    "from tensorflow.keras.layers import LSTM, Input, Dense\n",
    "from tensorflow.keras.models import Model\n",
    "\n",
    "from deap import base, creator, tools, algorithms\n",
    "from scipy.stats import bernoulli\n",
    "from bitstring import BitArray\n",
    "\n",
    "np.random.seed(1120)"
   ]
  },
  {
   "cell_type": "markdown",
   "metadata": {},
   "source": [
    "#### Reading dataset and using first 17,257 points as training/validation and rest of the 1500 points as test set."
   ]
  },
  {
   "cell_type": "code",
   "execution_count": 2,
   "metadata": {},
   "outputs": [],
   "source": [
    "data = pd.read_csv('train.csv')\n",
    "data = np.reshape(np.array(data['wp1']),(len(data['wp1']),1))\n",
    "\n",
    "train_data = data[0:17257]\n",
    "test_data = data[17257:]"
   ]
  },
  {
   "cell_type": "markdown",
   "metadata": {},
   "source": [
    "#### Defining Helper Functions"
   ]
  },
  {
   "cell_type": "code",
   "execution_count": 3,
   "metadata": {},
   "outputs": [],
   "source": [
    "def prepare_dataset(data, window_size):\n",
    "    X, Y = np.empty((0,window_size)), np.empty((0))\n",
    "    for i in range(len(data)-window_size-1):\n",
    "        X = np.vstack([X,data[i:(i + window_size),0]])\n",
    "        Y = np.append(Y,data[i + window_size,0])   \n",
    "    X = np.reshape(X,(len(X),window_size,1))\n",
    "    Y = np.reshape(Y,(len(Y),1))\n",
    "    return X, Y\n",
    "\n",
    "def train_evaluate(ga_individual_solution):   \n",
    "    # Decode GA solution to integer for window_size and num_units\n",
    "    window_size_bits = BitArray(ga_individual_solution[0:6])\n",
    "    num_units_bits = BitArray(ga_individual_solution[6:]) \n",
    "    window_size = window_size_bits.uint\n",
    "    num_units = num_units_bits.uint\n",
    "    print('\\nWindow Size: ', window_size, ', Num of Units: ', num_units)\n",
    "    \n",
    "    # Return fitness score of 100 if window_size or num_unit is zero\n",
    "    if window_size == 0 or num_units == 0:\n",
    "        return 100, \n",
    "    \n",
    "    # Segment the train_data based on new window_size; split into train and validation (80/20)\n",
    "    X,Y = prepare_dataset(train_data,window_size)\n",
    "    X_train, X_val, y_train, y_val = split(X, Y, test_size = 0.20, random_state = 1120)\n",
    "    \n",
    "    # Train LSTM model and predict on validation set\n",
    "    inputs = Input(shape=(window_size,1))\n",
    "    x = LSTM(num_units, input_shape=(window_size,1))(inputs)\n",
    "    predictions = Dense(1, activation='linear')(x)\n",
    "    model = Model(inputs=inputs, outputs=predictions)\n",
    "    model.compile(optimizer='adam',loss='mean_squared_error')\n",
    "    model.fit(X_train, y_train, epochs=5, batch_size=10,shuffle=True)\n",
    "    y_pred = model.predict(X_val)\n",
    "    \n",
    "    # Calculate the RMSE score as fitness score for GA\n",
    "    rmse = np.sqrt(mean_squared_error(y_val, y_pred))\n",
    "    print('Validation RMSE: ', rmse,'\\n')\n",
    "    \n",
    "    return rmse,"
   ]
  },
  {
   "cell_type": "markdown",
   "metadata": {},
   "source": [
    "#### Genetic Representation of the Solution"
   ]
  },
  {
   "cell_type": "markdown",
   "metadata": {},
   "source": [
    "<img src=\"genetic_representation.png\" alt=\"Genetic representation of a solution\">"
   ]
  },
  {
   "cell_type": "markdown",
   "metadata": {},
   "source": [
    "#### Genetic Algorithm Overview"
   ]
  },
  {
   "cell_type": "markdown",
   "metadata": {},
   "source": [
    "<img src=\"ga.png\" alt=\"Genetic Algorithm\">"
   ]
  },
  {
   "cell_type": "code",
   "execution_count": null,
   "metadata": {},
   "outputs": [
    {
     "name": "stdout",
     "output_type": "stream",
     "text": [
      "\n",
      "Window Size:  36 , Num of Units:  2\n",
      "Train on 13776 samples\n",
      "Epoch 1/5\n",
      "13776/13776 [==============================] - 26s 2ms/sample - loss: 0.0168\n",
      "Epoch 2/5\n",
      "13776/13776 [==============================] - 6s 456us/sample - loss: 0.0072\n",
      "Epoch 3/5\n",
      "13776/13776 [==============================] - 7s 479us/sample - loss: 0.0060\n",
      "Epoch 4/5\n",
      "13776/13776 [==============================] - 8s 608us/sample - loss: 0.0057\n",
      "Epoch 5/5\n",
      "13776/13776 [==============================] - 11s 809us/sample - loss: 0.0056\n",
      "Validation RMSE:  0.07551891040049909 \n",
      "\n",
      "\n",
      "Window Size:  56 , Num of Units:  8\n",
      "Train on 13760 samples\n",
      "Epoch 1/5\n",
      "13760/13760 [==============================] - 12s 875us/sample - loss: 0.0132\n",
      "Epoch 2/5\n",
      "13760/13760 [==============================] - 10s 743us/sample - loss: 0.0074\n",
      "Epoch 3/5\n",
      "13760/13760 [==============================] - 11s 817us/sample - loss: 0.0062\n",
      "Epoch 4/5\n",
      "13760/13760 [==============================] - 12s 848us/sample - loss: 0.0059\n",
      "Epoch 5/5\n",
      "13760/13760 [==============================] - 11s 833us/sample - loss: 0.0058\n",
      "Validation RMSE:  0.07494552201727697 \n",
      "\n",
      "\n",
      "Window Size:  60 , Num of Units:  9\n",
      "Train on 13756 samples\n",
      "Epoch 1/5\n",
      "13756/13756 [==============================] - 17s 1ms/sample - loss: 0.0211\n",
      "Epoch 2/5\n",
      "13756/13756 [==============================] - 15s 1ms/sample - loss: 0.0063\n",
      "Epoch 3/5\n",
      "13756/13756 [==============================] - 13s 945us/sample - loss: 0.0058\n",
      "Epoch 4/5\n",
      "13756/13756 [==============================] - 13s 919us/sample - loss: 0.0058\n",
      "Epoch 5/5\n",
      "13756/13756 [==============================] - 14s 1ms/sample - loss: 0.0057\n",
      "Validation RMSE:  0.0755105674649929 \n",
      "\n",
      "\n",
      "Window Size:  49 , Num of Units:  9\n",
      "Train on 13765 samples\n",
      "Epoch 1/5\n",
      "13765/13765 [==============================] - 15s 1ms/sample - loss: 0.0126\n",
      "Epoch 2/5\n",
      "13765/13765 [==============================] - 13s 968us/sample - loss: 0.0062\n",
      "Epoch 3/5\n",
      "13765/13765 [==============================] - 12s 903us/sample - loss: 0.0058\n",
      "Epoch 4/5\n",
      "13765/13765 [==============================] - 13s 912us/sample - loss: 0.0058\n",
      "Epoch 5/5\n",
      "13765/13765 [==============================] - 12s 873us/sample - loss: 0.0058\n",
      "Validation RMSE:  0.07413362821126218 \n",
      "\n",
      "\n",
      "Window Size:  8 , Num of Units:  10\n",
      "Train on 13798 samples\n",
      "Epoch 1/5\n",
      "13798/13798 [==============================] - 14s 1ms/sample - loss: 0.0126\n",
      "Epoch 2/5\n",
      "13798/13798 [==============================] - 11s 806us/sample - loss: 0.0067\n",
      "Epoch 3/5\n",
      "13798/13798 [==============================] - 10s 749us/sample - loss: 0.0057\n",
      "Epoch 4/5\n",
      "13798/13798 [==============================] - 11s 772us/sample - loss: 0.0056\n",
      "Epoch 5/5\n",
      "13798/13798 [==============================] - 11s 790us/sample - loss: 0.0056\n",
      "Validation RMSE:  0.0785106240913419 \n",
      "\n",
      "\n",
      "Window Size:  52 , Num of Units:  9\n",
      "Train on 13763 samples\n",
      "Epoch 1/5\n",
      "13763/13763 [==============================] - 14s 1ms/sample - loss: 0.0161\n",
      "Epoch 2/5\n",
      "13763/13763 [==============================] - 12s 855us/sample - loss: 0.0067\n",
      "Epoch 3/5\n",
      "13763/13763 [==============================] - 12s 873us/sample - loss: 0.0058\n",
      "Epoch 4/5\n",
      "13763/13763 [==============================] - 14s 1ms/sample - loss: 0.0057\n",
      "Epoch 5/5\n",
      "13763/13763 [==============================] - 12s 874us/sample - loss: 0.0057\n",
      "Validation RMSE:  0.07714153482527952 \n",
      "\n",
      "\n",
      "Window Size:  60 , Num of Units:  1\n",
      "Train on 13756 samples\n",
      "Epoch 1/5\n",
      "13756/13756 [==============================] - 14s 983us/sample - loss: 0.0261\n",
      "Epoch 2/5\n",
      "13756/13756 [==============================] - 12s 864us/sample - loss: 0.0079\n",
      "Epoch 3/5\n",
      "13756/13756 [==============================] - 12s 900us/sample - loss: 0.0062\n",
      "Epoch 4/5\n",
      "13756/13756 [==============================] - 12s 882us/sample - loss: 0.0057\n",
      "Epoch 5/5\n",
      "13756/13756 [==============================] - ETA: 0s - loss: 0.005 - 13s 927us/sample - loss: 0.0056\n",
      "Validation RMSE:  0.07474045097535587 \n",
      "\n",
      "\n",
      "Window Size:  36 , Num of Units:  10\n",
      "Train on 13776 samples\n",
      "Epoch 1/5\n",
      "13776/13776 [==============================] - 14s 1ms/sample - loss: 0.0131\n",
      "Epoch 2/5\n",
      "13776/13776 [==============================] - 12s 863us/sample - loss: 0.0064\n",
      "Epoch 3/5\n",
      "13776/13776 [==============================] - 12s 899us/sample - loss: 0.0058\n",
      "Epoch 4/5\n",
      "13776/13776 [==============================] - 13s 973us/sample - loss: 0.0057\n",
      "Epoch 5/5\n",
      "13776/13776 [==============================] - 13s 918us/sample - loss: 0.0057\n",
      "Validation RMSE:  0.0751950715558931 \n",
      "\n",
      "\n",
      "Window Size:  36 , Num of Units:  10\n",
      "Train on 13776 samples\n",
      "Epoch 1/5\n",
      "13776/13776 [==============================] - 16s 1ms/sample - loss: 0.0124\n",
      "Epoch 2/5\n",
      "13776/13776 [==============================] - 13s 950us/sample - loss: 0.0062\n",
      "Epoch 3/5\n",
      "13776/13776 [==============================] - 11s 830us/sample - loss: 0.0058\n",
      "Epoch 4/5\n",
      "13776/13776 [==============================] - 12s 837us/sample - loss: 0.0057\n",
      "Epoch 5/5\n",
      "13776/13776 [==============================] - 12s 850us/sample - loss: 0.0057\n",
      "Validation RMSE:  0.07508322170970555 \n",
      "\n",
      "\n",
      "Window Size:  60 , Num of Units:  1\n",
      "Train on 13756 samples\n",
      "Epoch 1/5\n",
      "13756/13756 [==============================] - 14s 982us/sample - loss: 0.0467\n",
      "Epoch 2/5\n",
      "13756/13756 [==============================] - 12s 875us/sample - loss: 0.0126\n",
      "Epoch 3/5\n",
      "13756/13756 [==============================] - 12s 893us/sample - loss: 0.0080\n",
      "Epoch 4/5\n",
      "13756/13756 [==============================] - 13s 914us/sample - loss: 0.0064\n",
      "Epoch 5/5\n",
      "13756/13756 [==============================] - 13s 921us/sample - loss: 0.0058\n",
      "Validation RMSE:  0.0750768402345291 \n",
      "\n",
      "\n",
      "Window Size:  36 , Num of Units:  10\n",
      "Train on 13776 samples\n",
      "Epoch 1/5\n",
      "13776/13776 [==============================] - 15s 1ms/sample - loss: 0.0126\n",
      "Epoch 2/5\n",
      " 7380/13776 [===============>..............] - ETA: 5s - loss: 0.0063"
     ]
    }
   ],
   "source": [
    "population_size = 4\n",
    "num_generations = 4\n",
    "gene_length = 10\n",
    "\n",
    "# As we are trying to minimize the RMSE score, that's why using -1.0. \n",
    "# In case, when you want to maximize accuracy for instance, use 1.0\n",
    "creator.create('FitnessMax', base.Fitness, weights = (-1.0,))\n",
    "creator.create('Individual', list , fitness = creator.FitnessMax)\n",
    "\n",
    "toolbox = base.Toolbox()\n",
    "toolbox.register('binary', bernoulli.rvs, 0.5)\n",
    "toolbox.register('individual', tools.initRepeat, creator.Individual, toolbox.binary, n = gene_length)\n",
    "toolbox.register('population', tools.initRepeat, list , toolbox.individual)\n",
    "\n",
    "toolbox.register('mate', tools.cxOrdered)\n",
    "toolbox.register('mutate', tools.mutShuffleIndexes, indpb = 0.6)\n",
    "toolbox.register('select', tools.selRoulette)\n",
    "toolbox.register('evaluate', train_evaluate)\n",
    "\n",
    "population = toolbox.population(n = population_size)\n",
    "r = algorithms.eaSimple(population, toolbox, cxpb = 0.4, mutpb = 0.1, ngen = num_generations, verbose = False)"
   ]
  },
  {
   "cell_type": "markdown",
   "metadata": {},
   "source": [
    "#### Print top N solutions - (1st only, for now)"
   ]
  },
  {
   "cell_type": "code",
   "execution_count": 6,
   "metadata": {},
   "outputs": [
    {
     "name": "stdout",
     "output_type": "stream",
     "text": [
      "\n",
      "Window Size:  36 , Num of Units:  2\n"
     ]
    }
   ],
   "source": [
    "best_individuals = tools.selBest(population,k = 1)\n",
    "best_window_size = None\n",
    "best_num_units = None\n",
    "\n",
    "for bi in best_individuals:\n",
    "    window_size_bits = BitArray(bi[0:6])\n",
    "    num_units_bits = BitArray(bi[6:]) \n",
    "    best_window_size = window_size_bits.uint\n",
    "    best_num_units = num_units_bits.uint\n",
    "    print('\\nWindow Size: ', best_window_size, ', Num of Units: ', best_num_units)"
   ]
  },
  {
   "cell_type": "markdown",
   "metadata": {},
   "source": [
    "#### Train the model using best configuration on complete training set and make predictions on the test set"
   ]
  },
  {
   "cell_type": "code",
   "execution_count": 7,
   "metadata": {
    "collapsed": true,
    "jupyter": {
     "outputs_hidden": true
    }
   },
   "outputs": [
    {
     "name": "stdout",
     "output_type": "stream",
     "text": [
      "Epoch 1/5\n",
      "17220/17220 [==============================] - 109s 6ms/step - loss: 0.0200 1s - ETA: 0s - loss\n",
      "Epoch 2/5\n",
      "17220/17220 [==============================] - 107s 6ms/step - loss: 0.0082 2s - l\n",
      "Epoch 3/5\n",
      "17220/17220 [==============================] - 108s 6ms/step - loss: 0.0061 1\n",
      "Epoch 4/5\n",
      "17220/17220 [==============================] - 110s 6ms/step - loss: 0.0057\n",
      "Epoch 5/5\n",
      "17220/17220 [==============================] - 107s 6ms/step - loss: 0.0056\n",
      "Test RMSE:  0.09245289902632778\n"
     ]
    }
   ],
   "source": [
    "X_train,y_train = prepare_dataset(train_data,best_window_size)\n",
    "X_test, y_test = prepare_dataset(test_data,best_window_size)\n",
    "\n",
    "inputs = Input(shape=(best_window_size,1))\n",
    "x = LSTM(best_num_units, input_shape=(best_window_size,1))(inputs)\n",
    "predictions = Dense(1, activation='linear')(x)\n",
    "model = Model(inputs = inputs, outputs = predictions)\n",
    "model.compile(optimizer='adam',loss='mean_squared_error')\n",
    "model.fit(X_train, y_train, epochs=5, batch_size=10,shuffle=True)\n",
    "y_pred = model.predict(X_test)\n",
    "\n",
    "rmse = np.sqrt(mean_squared_error(y_test, y_pred))\n",
    "print('Test RMSE: ', rmse)"
   ]
  },
  {
   "cell_type": "code",
   "execution_count": null,
   "metadata": {},
   "outputs": [],
   "source": []
  }
 ],
 "metadata": {
  "kernelspec": {
   "display_name": "Python 3",
   "language": "python",
   "name": "python3"
  },
  "language_info": {
   "codemirror_mode": {
    "name": "ipython",
    "version": 3
   },
   "file_extension": ".py",
   "mimetype": "text/x-python",
   "name": "python",
   "nbconvert_exporter": "python",
   "pygments_lexer": "ipython3",
   "version": "3.7.7"
  }
 },
 "nbformat": 4,
 "nbformat_minor": 4
}
